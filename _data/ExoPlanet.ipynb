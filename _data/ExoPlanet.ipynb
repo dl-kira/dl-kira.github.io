{
 "cells": [
  {
   "cell_type": "code",
   "execution_count": 1,
   "metadata": {},
   "outputs": [],
   "source": [
    "import pandas as pd\n",
    "df=pd.read_csv(\"data.csv\")"
   ]
  },
  {
   "cell_type": "code",
   "execution_count": 2,
   "metadata": {},
   "outputs": [
    {
     "data": {
      "text/html": [
       "<div>\n",
       "<style>\n",
       "    .dataframe thead tr:only-child th {\n",
       "        text-align: right;\n",
       "    }\n",
       "\n",
       "    .dataframe thead th {\n",
       "        text-align: left;\n",
       "    }\n",
       "\n",
       "    .dataframe tbody tr th {\n",
       "        vertical-align: top;\n",
       "    }\n",
       "</style>\n",
       "<table border=\"1\" class=\"dataframe\">\n",
       "  <thead>\n",
       "    <tr style=\"text-align: right;\">\n",
       "      <th></th>\n",
       "      <th>LABEL</th>\n",
       "      <th>FLUX.1</th>\n",
       "      <th>FLUX.2</th>\n",
       "      <th>FLUX.3</th>\n",
       "      <th>FLUX.4</th>\n",
       "      <th>FLUX.5</th>\n",
       "      <th>FLUX.6</th>\n",
       "      <th>FLUX.7</th>\n",
       "      <th>FLUX.8</th>\n",
       "      <th>FLUX.9</th>\n",
       "      <th>...</th>\n",
       "      <th>FLUX.3188</th>\n",
       "      <th>FLUX.3189</th>\n",
       "      <th>FLUX.3190</th>\n",
       "      <th>FLUX.3191</th>\n",
       "      <th>FLUX.3192</th>\n",
       "      <th>FLUX.3193</th>\n",
       "      <th>FLUX.3194</th>\n",
       "      <th>FLUX.3195</th>\n",
       "      <th>FLUX.3196</th>\n",
       "      <th>FLUX.3197</th>\n",
       "    </tr>\n",
       "  </thead>\n",
       "  <tbody>\n",
       "    <tr>\n",
       "      <th>0</th>\n",
       "      <td>2</td>\n",
       "      <td>-38.88</td>\n",
       "      <td>-33.83</td>\n",
       "      <td>-58.54</td>\n",
       "      <td>-40.09</td>\n",
       "      <td>-79.31</td>\n",
       "      <td>-72.81</td>\n",
       "      <td>-86.55</td>\n",
       "      <td>-85.33</td>\n",
       "      <td>-83.97</td>\n",
       "      <td>...</td>\n",
       "      <td>-3.28</td>\n",
       "      <td>-32.21</td>\n",
       "      <td>-32.21</td>\n",
       "      <td>-24.89</td>\n",
       "      <td>-4.86</td>\n",
       "      <td>0.76</td>\n",
       "      <td>-11.70</td>\n",
       "      <td>6.46</td>\n",
       "      <td>16.00</td>\n",
       "      <td>19.93</td>\n",
       "    </tr>\n",
       "    <tr>\n",
       "      <th>1</th>\n",
       "      <td>2</td>\n",
       "      <td>532.64</td>\n",
       "      <td>535.92</td>\n",
       "      <td>513.73</td>\n",
       "      <td>496.92</td>\n",
       "      <td>456.45</td>\n",
       "      <td>466.00</td>\n",
       "      <td>464.50</td>\n",
       "      <td>486.39</td>\n",
       "      <td>436.56</td>\n",
       "      <td>...</td>\n",
       "      <td>-71.69</td>\n",
       "      <td>13.31</td>\n",
       "      <td>13.31</td>\n",
       "      <td>-29.89</td>\n",
       "      <td>-20.88</td>\n",
       "      <td>5.06</td>\n",
       "      <td>-11.80</td>\n",
       "      <td>-28.91</td>\n",
       "      <td>-70.02</td>\n",
       "      <td>-96.67</td>\n",
       "    </tr>\n",
       "    <tr>\n",
       "      <th>2</th>\n",
       "      <td>2</td>\n",
       "      <td>326.52</td>\n",
       "      <td>347.39</td>\n",
       "      <td>302.35</td>\n",
       "      <td>298.13</td>\n",
       "      <td>317.74</td>\n",
       "      <td>312.70</td>\n",
       "      <td>322.33</td>\n",
       "      <td>311.31</td>\n",
       "      <td>312.42</td>\n",
       "      <td>...</td>\n",
       "      <td>5.71</td>\n",
       "      <td>-3.73</td>\n",
       "      <td>-3.73</td>\n",
       "      <td>30.05</td>\n",
       "      <td>20.03</td>\n",
       "      <td>-12.67</td>\n",
       "      <td>-8.77</td>\n",
       "      <td>-17.31</td>\n",
       "      <td>-17.35</td>\n",
       "      <td>13.98</td>\n",
       "    </tr>\n",
       "    <tr>\n",
       "      <th>3</th>\n",
       "      <td>2</td>\n",
       "      <td>-1107.21</td>\n",
       "      <td>-1112.59</td>\n",
       "      <td>-1118.95</td>\n",
       "      <td>-1095.10</td>\n",
       "      <td>-1057.55</td>\n",
       "      <td>-1034.48</td>\n",
       "      <td>-998.34</td>\n",
       "      <td>-1022.71</td>\n",
       "      <td>-989.57</td>\n",
       "      <td>...</td>\n",
       "      <td>-594.37</td>\n",
       "      <td>-401.66</td>\n",
       "      <td>-401.66</td>\n",
       "      <td>-357.24</td>\n",
       "      <td>-443.76</td>\n",
       "      <td>-438.54</td>\n",
       "      <td>-399.71</td>\n",
       "      <td>-384.65</td>\n",
       "      <td>-411.79</td>\n",
       "      <td>-510.54</td>\n",
       "    </tr>\n",
       "    <tr>\n",
       "      <th>4</th>\n",
       "      <td>2</td>\n",
       "      <td>211.10</td>\n",
       "      <td>163.57</td>\n",
       "      <td>179.16</td>\n",
       "      <td>187.82</td>\n",
       "      <td>188.46</td>\n",
       "      <td>168.13</td>\n",
       "      <td>203.46</td>\n",
       "      <td>178.65</td>\n",
       "      <td>166.49</td>\n",
       "      <td>...</td>\n",
       "      <td>-98.45</td>\n",
       "      <td>30.34</td>\n",
       "      <td>30.34</td>\n",
       "      <td>29.62</td>\n",
       "      <td>28.80</td>\n",
       "      <td>19.27</td>\n",
       "      <td>-43.90</td>\n",
       "      <td>-41.63</td>\n",
       "      <td>-52.90</td>\n",
       "      <td>-16.16</td>\n",
       "    </tr>\n",
       "  </tbody>\n",
       "</table>\n",
       "<p>5 rows × 3198 columns</p>\n",
       "</div>"
      ],
      "text/plain": [
       "   LABEL   FLUX.1   FLUX.2   FLUX.3   FLUX.4   FLUX.5   FLUX.6  FLUX.7  \\\n",
       "0      2   -38.88   -33.83   -58.54   -40.09   -79.31   -72.81  -86.55   \n",
       "1      2   532.64   535.92   513.73   496.92   456.45   466.00  464.50   \n",
       "2      2   326.52   347.39   302.35   298.13   317.74   312.70  322.33   \n",
       "3      2 -1107.21 -1112.59 -1118.95 -1095.10 -1057.55 -1034.48 -998.34   \n",
       "4      2   211.10   163.57   179.16   187.82   188.46   168.13  203.46   \n",
       "\n",
       "    FLUX.8  FLUX.9    ...      FLUX.3188  FLUX.3189  FLUX.3190  FLUX.3191  \\\n",
       "0   -85.33  -83.97    ...          -3.28     -32.21     -32.21     -24.89   \n",
       "1   486.39  436.56    ...         -71.69      13.31      13.31     -29.89   \n",
       "2   311.31  312.42    ...           5.71      -3.73      -3.73      30.05   \n",
       "3 -1022.71 -989.57    ...        -594.37    -401.66    -401.66    -357.24   \n",
       "4   178.65  166.49    ...         -98.45      30.34      30.34      29.62   \n",
       "\n",
       "   FLUX.3192  FLUX.3193  FLUX.3194  FLUX.3195  FLUX.3196  FLUX.3197  \n",
       "0      -4.86       0.76     -11.70       6.46      16.00      19.93  \n",
       "1     -20.88       5.06     -11.80     -28.91     -70.02     -96.67  \n",
       "2      20.03     -12.67      -8.77     -17.31     -17.35      13.98  \n",
       "3    -443.76    -438.54    -399.71    -384.65    -411.79    -510.54  \n",
       "4      28.80      19.27     -43.90     -41.63     -52.90     -16.16  \n",
       "\n",
       "[5 rows x 3198 columns]"
      ]
     },
     "execution_count": 2,
     "metadata": {},
     "output_type": "execute_result"
    }
   ],
   "source": [
    "df.head()"
   ]
  },
  {
   "cell_type": "code",
   "execution_count": 3,
   "metadata": {},
   "outputs": [
    {
     "name": "stderr",
     "output_type": "stream",
     "text": [
      "/home/sanju/anaconda3/lib/python3.6/site-packages/sklearn/cross_validation.py:44: DeprecationWarning: This module was deprecated in version 0.18 in favor of the model_selection module into which all the refactored classes and functions are moved. Also note that the interface of the new CV iterators are different from that of this module. This module will be removed in 0.20.\n",
      "  \"This module will be removed in 0.20.\", DeprecationWarning)\n"
     ]
    }
   ],
   "source": [
    "import numpy as np\n",
    "import matplotlib.pyplot as plt\n",
    "from numpy import loadtxt\n",
    "from xgboost import XGBClassifier\n",
    "from sklearn.model_selection import train_test_split\n",
    "from sklearn.metrics import accuracy_score\n",
    "from sklearn.metrics import f1_score"
   ]
  },
  {
   "cell_type": "code",
   "execution_count": 4,
   "metadata": {
    "collapsed": true
   },
   "outputs": [],
   "source": [
    "val = df.values"
   ]
  },
  {
   "cell_type": "code",
   "execution_count": 5,
   "metadata": {
    "collapsed": true
   },
   "outputs": [],
   "source": [
    "minority = []\n",
    "for value in val:\n",
    "    if value[0] == 2:\n",
    "        minority.append(value)"
   ]
  },
  {
   "cell_type": "code",
   "execution_count": 6,
   "metadata": {
    "scrolled": true
   },
   "outputs": [],
   "source": [
    "mino = np.asarray(minority)"
   ]
  },
  {
   "cell_type": "code",
   "execution_count": 7,
   "metadata": {},
   "outputs": [
    {
     "data": {
      "text/plain": [
       "(33, 3198)"
      ]
     },
     "execution_count": 7,
     "metadata": {},
     "output_type": "execute_result"
    }
   ],
   "source": [
    "mino.shape"
   ]
  },
  {
   "cell_type": "code",
   "execution_count": 8,
   "metadata": {},
   "outputs": [
    {
     "data": {
      "text/plain": [
       "(3960, 3198)"
      ]
     },
     "execution_count": 8,
     "metadata": {},
     "output_type": "execute_result"
    }
   ],
   "source": [
    "val.shape"
   ]
  },
  {
   "cell_type": "code",
   "execution_count": 9,
   "metadata": {
    "collapsed": true
   },
   "outputs": [],
   "source": [
    "for i in range(0, 30):\n",
    "    val = np.append(mino, val, axis=0)"
   ]
  },
  {
   "cell_type": "code",
   "execution_count": 36,
   "metadata": {},
   "outputs": [],
   "source": [
    "import random\n",
    "random.shuffle(val)"
   ]
  },
  {
   "cell_type": "code",
   "execution_count": 24,
   "metadata": {},
   "outputs": [
    {
     "data": {
      "text/plain": [
       "(4950, 3198)"
      ]
     },
     "execution_count": 24,
     "metadata": {},
     "output_type": "execute_result"
    }
   ],
   "source": [
    "val.shape"
   ]
  },
  {
   "cell_type": "code",
   "execution_count": 37,
   "metadata": {
    "collapsed": true
   },
   "outputs": [],
   "source": [
    "y = val[:, 0]\n",
    "X = val[:, 1:3179]"
   ]
  },
  {
   "cell_type": "code",
   "execution_count": 26,
   "metadata": {
    "scrolled": true
   },
   "outputs": [
    {
     "data": {
      "text/plain": [
       "array([[  -38.88,   -33.83,   -58.54, ...,    -9.8 ,   -19.53,   -19.53],\n",
       "       [  532.64,   535.92,   513.73, ...,    -6.53,    14.  ,    14.  ],\n",
       "       [  532.64,   535.92,   513.73, ...,    -6.53,    14.  ,    14.  ],\n",
       "       ..., \n",
       "       [  -11.09,   -16.4 ,   -22.64, ...,    47.48,    60.45,    67.87],\n",
       "       [  145.84,   137.82,    96.99, ...,    56.59,    63.87,    63.87],\n",
       "       [-1107.21, -1112.59, -1118.95, ...,  -539.29,  -672.71,  -672.71]])"
      ]
     },
     "execution_count": 26,
     "metadata": {},
     "output_type": "execute_result"
    }
   ],
   "source": [
    "X"
   ]
  },
  {
   "cell_type": "code",
   "execution_count": 27,
   "metadata": {
    "collapsed": true
   },
   "outputs": [],
   "source": [
    "y = y-1"
   ]
  },
  {
   "cell_type": "code",
   "execution_count": 28,
   "metadata": {},
   "outputs": [
    {
     "name": "stdout",
     "output_type": "stream",
     "text": [
      "[ 1.  1.  1. ...,  0.  1.  1.]\n"
     ]
    }
   ],
   "source": [
    "print(y)"
   ]
  },
  {
   "cell_type": "code",
   "execution_count": 29,
   "metadata": {},
   "outputs": [
    {
     "data": {
      "text/plain": [
       "(4950, 3178)"
      ]
     },
     "execution_count": 29,
     "metadata": {},
     "output_type": "execute_result"
    }
   ],
   "source": [
    "X.shape"
   ]
  },
  {
   "cell_type": "code",
   "execution_count": 38,
   "metadata": {
    "collapsed": true
   },
   "outputs": [],
   "source": [
    "seed = 7\n",
    "test_size = 0.33\n",
    "X_train, X_test, y_train, y_test = train_test_split(X, y, test_size=test_size, random_state=seed)"
   ]
  },
  {
   "cell_type": "code",
   "execution_count": 39,
   "metadata": {},
   "outputs": [
    {
     "data": {
      "text/plain": [
       "XGBClassifier(base_score=0.5, colsample_bylevel=1, colsample_bytree=1,\n",
       "       gamma=0, learning_rate=0.1, max_delta_step=0, max_depth=3,\n",
       "       min_child_weight=1, missing=None, n_estimators=100, nthread=-1,\n",
       "       objective='binary:logistic', reg_alpha=0, reg_lambda=1,\n",
       "       scale_pos_weight=1, seed=0, silent=True, subsample=1)"
      ]
     },
     "execution_count": 39,
     "metadata": {},
     "output_type": "execute_result"
    }
   ],
   "source": [
    "model = XGBClassifier()\n",
    "model.fit(X_train, y_train)"
   ]
  },
  {
   "cell_type": "code",
   "execution_count": 32,
   "metadata": {},
   "outputs": [
    {
     "name": "stdout",
     "output_type": "stream",
     "text": [
      "XGBClassifier(base_score=0.5, colsample_bylevel=1, colsample_bytree=1,\n",
      "       gamma=0, learning_rate=0.1, max_delta_step=0, max_depth=3,\n",
      "       min_child_weight=1, missing=None, n_estimators=100, nthread=-1,\n",
      "       objective='binary:logistic', reg_alpha=0, reg_lambda=1,\n",
      "       scale_pos_weight=1, seed=0, silent=True, subsample=1)\n"
     ]
    }
   ],
   "source": [
    "print(model)"
   ]
  },
  {
   "cell_type": "code",
   "execution_count": 33,
   "metadata": {
    "collapsed": true
   },
   "outputs": [],
   "source": [
    "y_pred = model.predict(X_test)\n",
    "predictions = [round(value) for value in y_pred]"
   ]
  },
  {
   "cell_type": "code",
   "execution_count": 34,
   "metadata": {},
   "outputs": [
    {
     "name": "stdout",
     "output_type": "stream",
     "text": [
      "Accuracy: 99.94%\n"
     ]
    }
   ],
   "source": [
    "accuracy = accuracy_score(y_test, predictions)\n",
    "print(\"Accuracy: %.2f%%\" % (accuracy * 100.0))"
   ]
  },
  {
   "cell_type": "code",
   "execution_count": 35,
   "metadata": {},
   "outputs": [
    {
     "name": "stdout",
     "output_type": "stream",
     "text": [
      "             precision    recall  f1-score   support\n",
      "\n",
      "        Exp       1.00      1.00      1.00       773\n",
      "    Not Exp       1.00      1.00      1.00       861\n",
      "\n",
      "avg / total       1.00      1.00      1.00      1634\n",
      "\n"
     ]
    }
   ],
   "source": [
    "from sklearn.metrics import classification_report\n",
    "print(classification_report(y_test, predictions, target_names=['Exp','Not Exp']))"
   ]
  },
  {
   "cell_type": "code",
   "execution_count": 96,
   "metadata": {},
   "outputs": [
    {
     "name": "stdout",
     "output_type": "stream",
     "text": [
      "yo 2\n",
      "yo 3\n",
      "yo 11\n",
      "yo 15\n",
      "yo 16\n",
      "yo 20\n",
      "yo 23\n",
      "yo 24\n",
      "yo 37\n",
      "yo 39\n",
      "yo 48\n",
      "yo 51\n",
      "yo 53\n",
      "yo 69\n",
      "yo 72\n",
      "yo 79\n",
      "yo 89\n",
      "yo 90\n",
      "yo 93\n",
      "yo 97\n",
      "yo 103\n",
      "yo 107\n",
      "yo 108\n",
      "yo 110\n",
      "yo 120\n",
      "yo 124\n",
      "yo 128\n",
      "yo 134\n",
      "yo 140\n",
      "yo 147\n",
      "yo 150\n",
      "yo 154\n",
      "yo 159\n",
      "yo 161\n",
      "yo 169\n",
      "yo 170\n",
      "yo 173\n",
      "yo 174\n",
      "yo 179\n",
      "yo 182\n",
      "yo 186\n",
      "yo 191\n",
      "yo 192\n",
      "yo 193\n",
      "yo 198\n",
      "yo 199\n",
      "yo 205\n",
      "yo 208\n",
      "yo 209\n",
      "yo 211\n",
      "yo 213\n",
      "yo 215\n",
      "yo 220\n",
      "yo 227\n",
      "yo 231\n",
      "yo 233\n",
      "yo 243\n",
      "yo 247\n",
      "yo 248\n",
      "yo 249\n",
      "yo 257\n",
      "yo 266\n",
      "yo 268\n",
      "yo 275\n",
      "yo 279\n",
      "yo 280\n",
      "yo 282\n",
      "yo 296\n",
      "yo 300\n",
      "yo 304\n",
      "yo 331\n",
      "yo 336\n",
      "yo 340\n",
      "yo 343\n",
      "yo 344\n",
      "yo 352\n",
      "yo 379\n",
      "yo 381\n",
      "yo 383\n",
      "yo 386\n",
      "yo 409\n",
      "yo 412\n",
      "yo 414\n",
      "yo 417\n",
      "yo 421\n",
      "yo 428\n",
      "yo 448\n",
      "yo 449\n",
      "yo 452\n",
      "yo 454\n",
      "yo 457\n",
      "yo 461\n",
      "yo 463\n",
      "yo 470\n",
      "yo 477\n",
      "yo 484\n",
      "yo 500\n",
      "yo 503\n",
      "yo 511\n",
      "yo 516\n",
      "yo 519\n",
      "yo 528\n",
      "yo 534\n",
      "yo 543\n",
      "yo 548\n",
      "yo 552\n",
      "yo 553\n",
      "yo 561\n",
      "yo 562\n",
      "yo 564\n",
      "yo 570\n",
      "yo 572\n",
      "yo 574\n",
      "yo 576\n",
      "yo 589\n",
      "yo 594\n",
      "yo 597\n",
      "yo 598\n",
      "yo 601\n",
      "yo 602\n",
      "yo 610\n",
      "yo 611\n",
      "yo 612\n",
      "yo 613\n",
      "yo 619\n",
      "yo 621\n",
      "yo 624\n",
      "yo 625\n",
      "yo 630\n",
      "yo 633\n",
      "yo 637\n",
      "yo 648\n",
      "yo 650\n",
      "yo 651\n",
      "yo 655\n",
      "yo 656\n",
      "yo 659\n",
      "yo 666\n",
      "yo 669\n",
      "yo 670\n",
      "yo 673\n",
      "yo 682\n",
      "yo 695\n",
      "yo 701\n",
      "yo 705\n",
      "yo 721\n",
      "yo 722\n",
      "yo 727\n",
      "yo 736\n",
      "yo 741\n",
      "yo 742\n",
      "yo 753\n",
      "yo 757\n",
      "yo 764\n",
      "yo 766\n",
      "yo 772\n",
      "yo 774\n",
      "yo 776\n",
      "yo 777\n",
      "yo 780\n",
      "yo 803\n",
      "yo 807\n",
      "yo 808\n",
      "yo 810\n",
      "yo 819\n",
      "yo 822\n",
      "yo 823\n",
      "yo 824\n",
      "yo 840\n",
      "yo 845\n",
      "yo 855\n",
      "yo 856\n",
      "yo 857\n",
      "yo 858\n",
      "yo 859\n",
      "yo 864\n",
      "yo 869\n",
      "yo 883\n",
      "yo 887\n",
      "yo 894\n",
      "yo 912\n",
      "yo 915\n",
      "yo 916\n",
      "yo 921\n",
      "yo 925\n",
      "yo 927\n",
      "yo 928\n",
      "yo 935\n",
      "yo 940\n",
      "yo 942\n",
      "yo 949\n",
      "yo 950\n",
      "yo 952\n",
      "yo 959\n",
      "yo 961\n",
      "yo 963\n",
      "yo 965\n",
      "yo 989\n",
      "yo 990\n",
      "yo 992\n",
      "yo 993\n",
      "yo 997\n",
      "yo 998\n",
      "yo 1004\n",
      "yo 1010\n",
      "yo 1016\n",
      "yo 1018\n",
      "yo 1019\n",
      "yo 1028\n",
      "yo 1030\n",
      "yo 1036\n",
      "yo 1039\n",
      "yo 1043\n",
      "yo 1045\n",
      "yo 1046\n",
      "yo 1049\n",
      "yo 1050\n",
      "yo 1056\n",
      "yo 1070\n",
      "yo 1074\n",
      "yo 1075\n",
      "yo 1083\n",
      "yo 1084\n",
      "yo 1093\n",
      "yo 1095\n",
      "yo 1104\n",
      "yo 1106\n",
      "yo 1110\n",
      "yo 1112\n",
      "yo 1117\n",
      "yo 1123\n",
      "yo 1127\n",
      "yo 1130\n",
      "yo 1136\n",
      "yo 1137\n",
      "yo 1139\n",
      "yo 1143\n",
      "yo 1153\n",
      "yo 1154\n",
      "yo 1162\n",
      "yo 1170\n",
      "yo 1172\n",
      "yo 1173\n",
      "yo 1190\n",
      "yo 1206\n",
      "yo 1211\n",
      "yo 1216\n",
      "yo 1219\n",
      "yo 1222\n",
      "yo 1226\n",
      "yo 1227\n",
      "yo 1231\n",
      "yo 1238\n",
      "yo 1249\n",
      "yo 1255\n",
      "yo 1257\n",
      "yo 1259\n",
      "yo 1260\n",
      "yo 1262\n",
      "yo 1275\n",
      "yo 1280\n",
      "yo 1283\n",
      "yo 1284\n",
      "yo 1287\n",
      "yo 1289\n",
      "yo 1292\n",
      "yo 1293\n",
      "yo 1300\n",
      "yo 1304\n",
      "yo 1308\n",
      "yo 1309\n",
      "yo 1321\n",
      "yo 1322\n",
      "yo 1323\n",
      "yo 1330\n",
      "yo 1331\n",
      "yo 1335\n",
      "yo 1342\n",
      "yo 1345\n",
      "yo 1346\n",
      "yo 1349\n",
      "yo 1351\n",
      "yo 1357\n",
      "yo 1363\n",
      "yo 1364\n",
      "yo 1367\n",
      "yo 1375\n",
      "yo 1378\n",
      "yo 1383\n",
      "yo 1386\n",
      "yo 1387\n",
      "yo 1390\n",
      "yo 1399\n",
      "yo 1400\n",
      "yo 1408\n",
      "yo 1409\n",
      "yo 1410\n",
      "yo 1411\n",
      "yo 1415\n",
      "yo 1421\n",
      "yo 1424\n",
      "yo 1425\n",
      "yo 1428\n",
      "yo 1437\n",
      "yo 1439\n",
      "yo 1444\n",
      "yo 1449\n",
      "yo 1451\n",
      "yo 1453\n",
      "yo 1458\n",
      "yo 1464\n",
      "yo 1470\n",
      "yo 1472\n",
      "yo 1474\n",
      "yo 1476\n",
      "yo 1477\n",
      "yo 1486\n",
      "yo 1494\n",
      "yo 1496\n",
      "yo 1500\n",
      "yo 1508\n",
      "yo 1512\n",
      "yo 1516\n",
      "yo 1518\n",
      "yo 1520\n",
      "yo 1522\n",
      "yo 1523\n",
      "yo 1528\n",
      "yo 1532\n",
      "yo 1542\n",
      "yo 1548\n",
      "yo 1553\n",
      "yo 1554\n",
      "yo 1558\n",
      "yo 1564\n",
      "yo 1567\n",
      "yo 1569\n",
      "yo 1570\n",
      "yo 1572\n",
      "yo 1574\n",
      "yo 1577\n",
      "yo 1587\n",
      "yo 1589\n",
      "yo 1592\n",
      "yo 1594\n",
      "yo 1595\n",
      "yo 1597\n",
      "yo 1600\n",
      "yo 1601\n",
      "yo 1610\n",
      "yo 1622\n"
     ]
    }
   ],
   "source": [
    "i = 0\n",
    "for prediction in predictions:\n",
    "    i = i+1\n",
    "    if prediction == 1:\n",
    "        print (\"yo\", i) "
   ]
  },
  {
   "cell_type": "code",
   "execution_count": 98,
   "metadata": {},
   "outputs": [
    {
     "name": "stdout",
     "output_type": "stream",
     "text": [
      "yo 2\n",
      "yo 3\n",
      "yo 11\n",
      "yo 15\n",
      "yo 16\n",
      "yo 20\n",
      "yo 23\n",
      "yo 24\n",
      "yo 37\n",
      "yo 39\n",
      "yo 48\n",
      "yo 51\n",
      "yo 53\n",
      "yo 69\n",
      "yo 72\n",
      "yo 79\n",
      "yo 89\n",
      "yo 90\n",
      "yo 93\n",
      "yo 97\n",
      "yo 103\n",
      "yo 107\n",
      "yo 108\n",
      "yo 110\n",
      "yo 120\n",
      "yo 124\n",
      "yo 128\n",
      "yo 134\n",
      "yo 140\n",
      "yo 147\n",
      "yo 150\n",
      "yo 154\n",
      "yo 159\n",
      "yo 161\n",
      "yo 169\n",
      "yo 170\n",
      "yo 173\n",
      "yo 174\n",
      "yo 179\n",
      "yo 182\n",
      "yo 186\n",
      "yo 191\n",
      "yo 192\n",
      "yo 193\n",
      "yo 198\n",
      "yo 199\n",
      "yo 205\n",
      "yo 208\n",
      "yo 209\n",
      "yo 211\n",
      "yo 213\n",
      "yo 215\n",
      "yo 220\n",
      "yo 227\n",
      "yo 231\n",
      "yo 233\n",
      "yo 243\n",
      "yo 247\n",
      "yo 248\n",
      "yo 249\n",
      "yo 257\n",
      "yo 266\n",
      "yo 268\n",
      "yo 275\n",
      "yo 279\n",
      "yo 280\n",
      "yo 282\n",
      "yo 296\n",
      "yo 300\n",
      "yo 304\n",
      "yo 331\n",
      "yo 336\n",
      "yo 340\n",
      "yo 343\n",
      "yo 344\n",
      "yo 352\n",
      "yo 379\n",
      "yo 381\n",
      "yo 383\n",
      "yo 386\n",
      "yo 409\n",
      "yo 412\n",
      "yo 414\n",
      "yo 417\n",
      "yo 421\n",
      "yo 428\n",
      "yo 448\n",
      "yo 449\n",
      "yo 452\n",
      "yo 454\n",
      "yo 457\n",
      "yo 461\n",
      "yo 463\n",
      "yo 470\n",
      "yo 477\n",
      "yo 484\n",
      "yo 500\n",
      "yo 503\n",
      "yo 511\n",
      "yo 516\n",
      "yo 519\n",
      "yo 528\n",
      "yo 534\n",
      "yo 543\n",
      "yo 548\n",
      "yo 552\n",
      "yo 553\n",
      "yo 561\n",
      "yo 562\n",
      "yo 564\n",
      "yo 570\n",
      "yo 572\n",
      "yo 574\n",
      "yo 576\n",
      "yo 589\n",
      "yo 594\n",
      "yo 597\n",
      "yo 598\n",
      "yo 601\n",
      "yo 602\n",
      "yo 610\n",
      "yo 611\n",
      "yo 612\n",
      "yo 613\n",
      "yo 619\n",
      "yo 621\n",
      "yo 624\n",
      "yo 625\n",
      "yo 630\n",
      "yo 633\n",
      "yo 637\n",
      "yo 648\n",
      "yo 650\n",
      "yo 651\n",
      "yo 655\n",
      "yo 656\n",
      "yo 659\n",
      "yo 666\n",
      "yo 669\n",
      "yo 670\n",
      "yo 673\n",
      "yo 682\n",
      "yo 695\n",
      "yo 701\n",
      "yo 705\n",
      "yo 721\n",
      "yo 722\n",
      "yo 727\n",
      "yo 736\n",
      "yo 741\n",
      "yo 742\n",
      "yo 753\n",
      "yo 757\n",
      "yo 764\n",
      "yo 766\n",
      "yo 772\n",
      "yo 774\n",
      "yo 776\n",
      "yo 777\n",
      "yo 780\n",
      "yo 803\n",
      "yo 807\n",
      "yo 808\n",
      "yo 810\n",
      "yo 819\n",
      "yo 822\n",
      "yo 823\n",
      "yo 824\n",
      "yo 840\n",
      "yo 845\n",
      "yo 856\n",
      "yo 857\n",
      "yo 858\n",
      "yo 859\n",
      "yo 864\n",
      "yo 869\n",
      "yo 883\n",
      "yo 887\n",
      "yo 894\n",
      "yo 912\n",
      "yo 915\n",
      "yo 916\n",
      "yo 921\n",
      "yo 925\n",
      "yo 927\n",
      "yo 928\n",
      "yo 935\n",
      "yo 940\n",
      "yo 942\n",
      "yo 949\n",
      "yo 952\n",
      "yo 959\n",
      "yo 961\n",
      "yo 963\n",
      "yo 965\n",
      "yo 989\n",
      "yo 990\n",
      "yo 992\n",
      "yo 993\n",
      "yo 997\n",
      "yo 998\n",
      "yo 1004\n",
      "yo 1010\n",
      "yo 1016\n",
      "yo 1018\n",
      "yo 1019\n",
      "yo 1028\n",
      "yo 1030\n",
      "yo 1036\n",
      "yo 1039\n",
      "yo 1043\n",
      "yo 1045\n",
      "yo 1046\n",
      "yo 1049\n",
      "yo 1050\n",
      "yo 1056\n",
      "yo 1070\n",
      "yo 1074\n",
      "yo 1075\n",
      "yo 1083\n",
      "yo 1084\n",
      "yo 1093\n",
      "yo 1095\n",
      "yo 1104\n",
      "yo 1106\n",
      "yo 1110\n",
      "yo 1112\n",
      "yo 1117\n",
      "yo 1123\n",
      "yo 1127\n",
      "yo 1130\n",
      "yo 1136\n",
      "yo 1137\n",
      "yo 1139\n",
      "yo 1143\n",
      "yo 1153\n",
      "yo 1154\n",
      "yo 1162\n",
      "yo 1170\n",
      "yo 1172\n",
      "yo 1173\n",
      "yo 1190\n",
      "yo 1206\n",
      "yo 1211\n",
      "yo 1216\n",
      "yo 1219\n",
      "yo 1222\n",
      "yo 1226\n",
      "yo 1227\n",
      "yo 1231\n",
      "yo 1238\n",
      "yo 1249\n",
      "yo 1255\n",
      "yo 1257\n",
      "yo 1259\n",
      "yo 1260\n",
      "yo 1262\n",
      "yo 1275\n",
      "yo 1280\n",
      "yo 1283\n",
      "yo 1284\n",
      "yo 1287\n",
      "yo 1289\n",
      "yo 1292\n",
      "yo 1293\n",
      "yo 1300\n",
      "yo 1304\n",
      "yo 1308\n",
      "yo 1309\n",
      "yo 1321\n",
      "yo 1322\n",
      "yo 1323\n",
      "yo 1330\n",
      "yo 1331\n",
      "yo 1335\n",
      "yo 1342\n",
      "yo 1345\n",
      "yo 1346\n",
      "yo 1349\n",
      "yo 1351\n",
      "yo 1357\n",
      "yo 1363\n",
      "yo 1364\n",
      "yo 1367\n",
      "yo 1375\n",
      "yo 1378\n",
      "yo 1383\n",
      "yo 1386\n",
      "yo 1387\n",
      "yo 1390\n",
      "yo 1399\n",
      "yo 1400\n",
      "yo 1408\n",
      "yo 1409\n",
      "yo 1410\n",
      "yo 1411\n",
      "yo 1415\n",
      "yo 1421\n",
      "yo 1424\n",
      "yo 1425\n",
      "yo 1428\n",
      "yo 1437\n",
      "yo 1439\n",
      "yo 1444\n",
      "yo 1449\n",
      "yo 1451\n",
      "yo 1453\n",
      "yo 1458\n",
      "yo 1464\n",
      "yo 1470\n",
      "yo 1472\n",
      "yo 1474\n",
      "yo 1476\n",
      "yo 1477\n",
      "yo 1486\n",
      "yo 1494\n",
      "yo 1496\n",
      "yo 1500\n",
      "yo 1508\n",
      "yo 1512\n",
      "yo 1516\n",
      "yo 1518\n",
      "yo 1520\n",
      "yo 1522\n",
      "yo 1523\n",
      "yo 1528\n",
      "yo 1532\n",
      "yo 1542\n",
      "yo 1548\n",
      "yo 1553\n",
      "yo 1554\n",
      "yo 1558\n",
      "yo 1564\n",
      "yo 1567\n",
      "yo 1569\n",
      "yo 1570\n",
      "yo 1572\n",
      "yo 1574\n",
      "yo 1577\n",
      "yo 1587\n",
      "yo 1589\n",
      "yo 1592\n",
      "yo 1594\n",
      "yo 1595\n",
      "yo 1597\n",
      "yo 1600\n",
      "yo 1601\n",
      "yo 1610\n",
      "yo 1622\n"
     ]
    }
   ],
   "source": [
    "j = 0\n",
    "for prediction in y_test:\n",
    "    j = j+1\n",
    "    if prediction == 1:\n",
    "        print (\"yo\", j)"
   ]
  },
  {
   "cell_type": "code",
   "execution_count": 79,
   "metadata": {},
   "outputs": [
    {
     "data": {
      "text/plain": [
       "0.99818202047174021"
      ]
     },
     "execution_count": 79,
     "metadata": {},
     "output_type": "execute_result"
    }
   ],
   "source": [
    "f1_score(y_test,predictions, average='macro')"
   ]
  },
  {
   "cell_type": "code",
   "execution_count": 80,
   "metadata": {},
   "outputs": [
    {
     "data": {
      "text/plain": [
       "0.99877600979192172"
      ]
     },
     "execution_count": 80,
     "metadata": {},
     "output_type": "execute_result"
    }
   ],
   "source": [
    "f1_score(y_test, predictions , average='micro')"
   ]
  },
  {
   "cell_type": "code",
   "execution_count": 81,
   "metadata": {},
   "outputs": [
    {
     "data": {
      "text/plain": [
       "0.99877728171766089"
      ]
     },
     "execution_count": 81,
     "metadata": {},
     "output_type": "execute_result"
    }
   ],
   "source": [
    "f1_score(y_test, predictions, average='weighted') "
   ]
  },
  {
   "cell_type": "code",
   "execution_count": 82,
   "metadata": {},
   "outputs": [
    {
     "data": {
      "text/plain": [
       "array([ 0.99922118,  0.99714286])"
      ]
     },
     "execution_count": 82,
     "metadata": {},
     "output_type": "execute_result"
    }
   ],
   "source": [
    "f1_score(y_test, predictions, average=None ) "
   ]
  },
  {
   "cell_type": "code",
   "execution_count": 83,
   "metadata": {},
   "outputs": [
    {
     "data": {
      "text/plain": [
       "0.99714285714285722"
      ]
     },
     "execution_count": 83,
     "metadata": {},
     "output_type": "execute_result"
    }
   ],
   "source": [
    "f1_score(y_test, predictions)"
   ]
  },
  {
   "cell_type": "code",
   "execution_count": 84,
   "metadata": {},
   "outputs": [
    {
     "name": "stdout",
     "output_type": "stream",
     "text": [
      "Average precision-recall score: 0.99\n"
     ]
    }
   ],
   "source": [
    "from sklearn.metrics import average_precision_score\n",
    "average_precision = average_precision_score(y_test, predictions)\n",
    "\n",
    "print('Average precision-recall score: {0:0.2f}'.format(average_precision))"
   ]
  },
  {
   "cell_type": "code",
   "execution_count": 85,
   "metadata": {},
   "outputs": [
    {
     "data": {
      "text/plain": [
       "<matplotlib.text.Text at 0x7f849e09bb00>"
      ]
     },
     "execution_count": 85,
     "metadata": {},
     "output_type": "execute_result"
    }
   ],
   "source": [
    "from sklearn.metrics import precision_recall_curve\n",
    "import matplotlib.pyplot as plt\n",
    "\n",
    "precision, recall, _ = precision_recall_curve(y_test, predictions )\n",
    "\n",
    "plt.step(recall, precision, color='b', alpha=0.2,\n",
    "         where='post')\n",
    "plt.fill_between(recall, precision, step='post', alpha=0.2,\n",
    "                 color='b')\n",
    "\n",
    "plt.xlabel('Recall')\n",
    "plt.ylabel('Precision')\n",
    "plt.ylim([0.0, 1.05])\n",
    "plt.xlim([0.0, 1.0])\n",
    "plt.title('2-class Precision-Recall curve: AP={0:0.2f}'.format(average_precision))"
   ]
  },
  {
   "cell_type": "code",
   "execution_count": 86,
   "metadata": {},
   "outputs": [
    {
     "data": {
      "text/plain": [
       "0.99430199430199429"
      ]
     },
     "execution_count": 86,
     "metadata": {},
     "output_type": "execute_result"
    }
   ],
   "source": [
    "from sklearn.metrics import precision_score\n",
    "precision_score(y_test,predictions)"
   ]
  },
  {
   "cell_type": "code",
   "execution_count": 87,
   "metadata": {},
   "outputs": [
    {
     "data": {
      "text/plain": [
       "1.0"
      ]
     },
     "execution_count": 87,
     "metadata": {},
     "output_type": "execute_result"
    }
   ],
   "source": [
    "from sklearn.metrics import recall_score\n",
    "recall_score(y_test,predictions)"
   ]
  },
  {
   "cell_type": "code",
   "execution_count": 88,
   "metadata": {
    "collapsed": true
   },
   "outputs": [],
   "source": [
    "from sklearn.metrics import roc_curve, auc,roc_auc_score"
   ]
  },
  {
   "cell_type": "code",
   "execution_count": 89,
   "metadata": {},
   "outputs": [
    {
     "data": {
      "text/plain": [
       "0.99922178988326849"
      ]
     },
     "execution_count": 89,
     "metadata": {},
     "output_type": "execute_result"
    }
   ],
   "source": [
    "roc_auc_score(y_test,predictions,average='micro')"
   ]
  },
  {
   "cell_type": "code",
   "execution_count": 90,
   "metadata": {
    "collapsed": true
   },
   "outputs": [],
   "source": [
    "fpr = dict()\n",
    "tpr = dict()\n",
    "roc_auc = dict()\n",
    "fpr, tpr, _ = roc_curve(y_test, predictions)\n",
    "roc_auc= auc(fpr, tpr)"
   ]
  },
  {
   "cell_type": "code",
   "execution_count": 91,
   "metadata": {},
   "outputs": [
    {
     "data": {
      "text/plain": [
       "array([ 0.        ,  0.00155642,  1.        ])"
      ]
     },
     "execution_count": 91,
     "metadata": {},
     "output_type": "execute_result"
    }
   ],
   "source": [
    "fpr"
   ]
  },
  {
   "cell_type": "code",
   "execution_count": 92,
   "metadata": {},
   "outputs": [
    {
     "data": {
      "text/plain": [
       "array([ 0.,  1.,  1.])"
      ]
     },
     "execution_count": 92,
     "metadata": {},
     "output_type": "execute_result"
    }
   ],
   "source": [
    "tpr"
   ]
  },
  {
   "cell_type": "code",
   "execution_count": 93,
   "metadata": {},
   "outputs": [
    {
     "data": {
      "image/png": "[encoded data removed]",
      "text/plain": [
       "<matplotlib.figure.Figure at 0x7f84a1381da0>"
      ]
     },
     "metadata": {},
     "output_type": "display_data"
    },
    {
     "data": {
      "image/png": "[encoded data removed]",
      "text/plain": [
       "<matplotlib.figure.Figure at 0x7f849e01fb00>"
      ]
     },
     "metadata": {},
     "output_type": "display_data"
    }
   ],
   "source": [
    "plt.figure()\n",
    "lw = 2\n",
    "plt.plot(fpr, tpr, color='darkorange',lw=lw, label='ROC curve (area = %0.2f)' % roc_auc)\n",
    "plt.plot([0, 1], [0, 1], color='navy', lw=lw, linestyle='--')\n",
    "plt.xlim([0.0, 1.0])\n",
    "plt.ylim([0.0, 1.10])\n",
    "plt.xlabel('False Positive Rate')\n",
    "plt.ylabel('True Positive Rate')\n",
    "#plt.title('Receiver operating characteristic example')\n",
    "#plt.legend(loc=\"lower right\")\n",
    "\n",
    "plt.show()"
   ]
  },
  {
   "cell_type": "code",
   "execution_count": 94,
   "metadata": {},
   "outputs": [
    {
     "name": "stdout",
     "output_type": "stream",
     "text": [
      "             precision    recall  f1-score   support\n",
      "\n",
      "        Exp       1.00      1.00      1.00      1285\n",
      "    Not Exp       0.99      1.00      1.00       349\n",
      "\n",
      "avg / total       1.00      1.00      1.00      1634\n",
      "\n"
     ]
    }
   ],
   "source": [
    "from sklearn.metrics import classification_report\n",
    "print(classification_report(y_test, predictions, target_names=['Exp','Not Exp']))"
   ]
  },
  {
   "cell_type": "code",
   "execution_count": null,
   "metadata": {
    "collapsed": true
   },
   "outputs": [],
   "source": []
  },
  {
   "cell_type": "code",
   "execution_count": null,
   "metadata": {
    "collapsed": true
   },
   "outputs": [],
   "source": []
  }
 ],
 "metadata": {
  "kernelspec": {
   "display_name": "Python 3",
   "language": "python",
   "name": "python3"
  },
  "language_info": {
   "codemirror_mode": {
    "name": "ipython",
    "version": 3
   },
   "file_extension": ".py",
   "mimetype": "text/x-python",
   "name": "python",
   "nbconvert_exporter": "python",
   "pygments_lexer": "ipython3",
   "version": "3.6.1"
  }
 },
 "nbformat": 4,
 "nbformat_minor": 2
}
